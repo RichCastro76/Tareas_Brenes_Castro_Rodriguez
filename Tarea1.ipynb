{
 "cells": [
  {
   "cell_type": "markdown",
   "metadata": {},
   "source": [
    "# Tarea 1."
   ]
  },
  {
   "cell_type": "code",
   "execution_count": 1,
   "metadata": {},
   "outputs": [],
   "source": [
    "import math #   Esta libreria sera de ayuda para el calculo de la conversion\n",
    "import sys"
   ]
  },
  {
   "cell_type": "markdown",
   "metadata": {},
   "source": [
    "Con la funcion 'TipoConversion' se le solicita al usuario el tipo de conversion que desea realizar, ya sea dB, dBm o dBW por medio de opciones enumeradas tal como se mostraron antes de solicitar el dato al usuario. La funcion retorna una variable llamada \"Tipo\", la cual posee un valor que representa la conversion seleccionada. Ademas la funcion verifica que la opcion ingresada por el usuario sea valida, de no ser asi se finaliza el programa y muestra el mensaje 'El valor ingresado no corresponde a una opcion valida'."
   ]
  },
  {
   "cell_type": "code",
   "execution_count": 2,
   "metadata": {},
   "outputs": [],
   "source": [
    "def TipoConversion() :\n",
    "    \n",
    "\n",
    "    print('Si desea convertir a dB, digite 1')\n",
    "    print('Si desea convertir a dBm, digite 2')\n",
    "    print('Si desea convertir a dBW, digite 3')\n",
    "\n",
    "    Tipo = input(\"Digite el tipo de conversion que desea realizar:\")\n",
    "\n",
    "    if Tipo == '1':\n",
    "        return Tipo\n",
    "    \n",
    "    elif Tipo == '2':\n",
    "        return Tipo\n",
    "\n",
    "    elif Tipo == '3':\n",
    "        return Tipo\n",
    "        \n",
    "    else:\n",
    "        sys.exit(\"El valor ingresado no corresponde a una opcion valida\") "
   ]
  },
  {
   "cell_type": "markdown",
   "metadata": {},
   "source": [
    "La funcion 'SolicitarValor' recibe como parametro el tipo de conversion que se va a realizar y le solicita al usuario que ingrese el valor que desea convertir. Dependiendo del valor del parametro 'Tipo' asi se solicita el valor al usuario, ya que las unidades de referencia pueden variar. Ademas esta funcion retorna la variable 'Valor'."
   ]
  },
  {
   "cell_type": "code",
   "execution_count": 3,
   "metadata": {},
   "outputs": [],
   "source": [
    "def SolicitarValor(Tipo) :\n",
    "\n",
    "    Valor = str\n",
    "\n",
    "    if Tipo == '1':\n",
    "        Valor = input(\"Ingrese el valor que desea convertir:\")\n",
    "        \n",
    "\n",
    "    elif Tipo == '2':\n",
    "        Valor = input(\"Ingrese el valor que desea convertir en mW:\")   \n",
    "    \n",
    "    else:\n",
    "        Valor = input(\"Ingrese el valor que desea convertir en W:\")\n",
    "        \n",
    "    return Valor"
   ]
  },
  {
   "cell_type": "markdown",
   "metadata": {},
   "source": [
    "La funcion 'VerificarValor' se encarga de comprobar que el usuario haya ingresado un valor numerico, necesario para realizar la operacion matematica mas adelante. En caso de no ingresar un valorn numerico la funcion finaliza el programa y muestra el mensaje 'El valor ingresado no es valido'."
   ]
  },
  {
   "cell_type": "code",
   "execution_count": 4,
   "metadata": {},
   "outputs": [],
   "source": [
    "def VerificarValor(Valor):\n",
    "\n",
    "    Diagnostico = \"\"\n",
    "\n",
    "    if Valor.isdigit() is True:\n",
    "        Diagnostico = \"El valor ingresado es valido\" #  Esta variable en ningun momento es mostrada en consola al usuario, pero se le asigna un valor \n",
    "        return Diagnostico                           #  y se retorna con el objetivo de tener un punto referencia util para buscar pulgas en el codigo.\n",
    "        \n",
    "        \n",
    "    else:\n",
    "        sys.exit(\"El valor ingresado no es valido\")   \n",
    "        \n",
    "    "
   ]
  },
  {
   "cell_type": "markdown",
   "metadata": {},
   "source": [
    "La funcion 'Conversion' recibe como parametros el tipo de conversion que se quiere realizar y el valor que se quiere convertir. Dependiendo del tipo de conversion asi es la ecuacion que se utiliza, principalmente por las unidades de referencia que utiliza cada una. La ecuacion utilizada para la conversion es la siguiente:\n",
    "\n",
    "$$dB = 10 * \\log{\\frac{P}{\\Pr}} \\ \\$$\n",
    "\n",
    "Donde 'Pr' es la potencia de referencia, la cual varia segun las unidades de referencia de cada tipo de conversion y 'P' es el valor ingresado por el usuario.\n",
    "\n",
    "Esta funcion retorna el resultado de la operacion matematica."
   ]
  },
  {
   "cell_type": "code",
   "execution_count": 5,
   "metadata": {},
   "outputs": [],
   "source": [
    "def Conversion (Tipo,Valor):\n",
    "\n",
    "    Pr= float\n",
    "    Resultado = float\n",
    "\n",
    "    if Tipo == '1' :\n",
    "        Pr = 1\n",
    "        Resultado = 10 * math.log(int(Valor)/Pr,10)\n",
    "        return Resultado\n",
    "    \n",
    "    elif Tipo == '2' :\n",
    "        Pr = 0.001\n",
    "        Resultado = 10 * math.log((int(Valor)/1000)/Pr,10)\n",
    "        return Resultado\n",
    "\n",
    "    else:\n",
    "        Pr = 1\n",
    "        Resultado = 10 * math.log(int(Valor)/Pr,10)\n",
    "        return Resultado\n",
    "\n"
   ]
  },
  {
   "cell_type": "markdown",
   "metadata": {},
   "source": [
    "La funcion 'Impresion' recibe como parametros el resultado de la conversion y el tipo de conversion, esta se encarga unicamente de mostrar el resultado obtenido con las unidades de referencias correspondientes de ser necesario."
   ]
  },
  {
   "cell_type": "code",
   "execution_count": 6,
   "metadata": {},
   "outputs": [],
   "source": [
    "def Impresion(Resultado,Tipo):\n",
    "    if Tipo == '1':\n",
    "        print('El resultado obtenido de la conversion es: ' + str(Resultado) + \" dB\")\n",
    "\n",
    "    elif Tipo == '2':\n",
    "        print('El resultado obtenido de la conversion es: ' + str(Resultado) + \" dBm\")\n",
    "    \n",
    "    else:\n",
    "        print('El resultado obtenido de la conversion es: ' + str(Resultado) + \" dBW\")\n",
    "    "
   ]
  },
  {
   "cell_type": "code",
   "execution_count": 7,
   "metadata": {},
   "outputs": [
    {
     "name": "stdout",
     "output_type": "stream",
     "text": [
      "Si desea convertir a dB, digite 1\n",
      "Si desea convertir a dBm, digite 2\n",
      "Si desea convertir a dBW, digite 3\n",
      "El resultado obtenido de la conversion es: 3.0102999566398116 dBm\n"
     ]
    }
   ],
   "source": [
    "Tipo = TipoConversion()\n",
    "Valor = SolicitarValor(Tipo)\n",
    "Diagnostico = VerificarValor(Valor)\n",
    "Resultado = Conversion (Tipo,Valor)\n",
    "Impresion (Resultado, Tipo)"
   ]
  }
 ],
 "metadata": {
  "interpreter": {
   "hash": "d881dd925b3f64f6e4a53a7c796ccff7073f8b90ab85ce969c81c9a7dfc5ad5b"
  },
  "kernelspec": {
   "display_name": "Python 3.9.10 64-bit",
   "language": "python",
   "name": "python3"
  },
  "language_info": {
   "codemirror_mode": {
    "name": "ipython",
    "version": 3
   },
   "file_extension": ".py",
   "mimetype": "text/x-python",
   "name": "python",
   "nbconvert_exporter": "python",
   "pygments_lexer": "ipython3",
   "version": "3.9.10"
  },
  "orig_nbformat": 4
 },
 "nbformat": 4,
 "nbformat_minor": 2
}
