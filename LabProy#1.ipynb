{
 "cells": [
  {
   "cell_type": "markdown",
   "metadata": {},
   "source": [
    "# Tarea 1."
   ]
  },
  {
   "cell_type": "code",
   "execution_count": 1,
   "metadata": {},
   "outputs": [],
   "source": [
    "import math #   Esta libreria sera de ayuda para el calculo de la conversion\n",
    "\n",
    "import sys\n",
    "\n",
    "import matplotlib.pyplot as plt #   Se importa la librería matplotlib para lo que es el trazado de curvas.\n",
    "\n",
    "import numpy as np #   Se importa la libreria numpy para realizar operaciones matemáticas complejas.\n",
    "\n",
    "from scipy import signal #   Se importa la librería scipy para el manejo de señales complejas.\n",
    "\n",
    "import math as ma"
   ]
  },
  {
   "cell_type": "markdown",
   "metadata": {},
   "source": [
    "Con la funcion 'TipoConversion' se le solicita al usuario el tipo de conversion que desea realizar, ya sea dB, dBm o dBW por medio de opciones enumeradas tal como se mostraron antes de solicitar el dato al usuario. La funcion retorna una variable llamada \"Tipo\", la cual posee un valor que representa la conversion seleccionada. Ademas la funcion verifica que la opcion ingresada por el usuario sea valida, de no ser asi se finaliza el programa y muestra el mensaje 'El valor ingresado no corresponde a una opcion valida'."
   ]
  },
  {
   "cell_type": "code",
   "execution_count": 2,
   "metadata": {},
   "outputs": [],
   "source": [
    "def TipoConversion() :\n",
    "    \n",
    "\n",
    "    print('Si desea convertir a dB, digite 1')\n",
    "    print('Si desea convertir a dBm, digite 2')\n",
    "    print('Si desea convertir a dBW, digite 3')\n",
    "\n",
    "    Tipo = input(\"Digite el tipo de conversion que desea realizar:\")\n",
    "\n",
    "    if Tipo == '1':\n",
    "        return Tipo\n",
    "    \n",
    "    elif Tipo == '2':\n",
    "        return Tipo\n",
    "\n",
    "    elif Tipo == '3':\n",
    "        return Tipo\n",
    "        \n",
    "    else:\n",
    "        sys.exit(\"El valor ingresado no corresponde a una opcion valida\") "
   ]
  },
  {
   "cell_type": "markdown",
   "metadata": {},
   "source": [
    "La funcion 'SolicitarValor' recibe como parametro el tipo de conversion que se va a realizar y le solicita al usuario que ingrese el valor que desea convertir. Dependiendo del valor del parametro 'Tipo' asi se solicita el valor al usuario, ya que las unidades de referencia pueden variar. Ademas esta funcion retorna la variable 'Valor'."
   ]
  },
  {
   "cell_type": "code",
   "execution_count": 3,
   "metadata": {},
   "outputs": [],
   "source": [
    "def SolicitarValor(Tipo) :\n",
    "\n",
    "    Valor = str\n",
    "\n",
    "    if Tipo == '1':\n",
    "        Valor = input(\"Ingrese el valor que desea convertir:\")\n",
    "        \n",
    "\n",
    "    elif Tipo == '2':\n",
    "        Valor = input(\"Ingrese el valor que desea convertir en mW:\")   \n",
    "    \n",
    "    else:\n",
    "        Valor = input(\"Ingrese el valor que desea convertir en W:\")\n",
    "        \n",
    "    return Valor"
   ]
  },
  {
   "cell_type": "markdown",
   "metadata": {},
   "source": [
    "La funcion 'VerificarValor' se encarga de comprobar que el usuario haya ingresado un valor numerico, necesario para realizar la operacion matematica mas adelante. En caso de no ingresar un valorn numerico la funcion finaliza el programa y muestra el mensaje 'El valor ingresado no es valido'."
   ]
  },
  {
   "cell_type": "code",
   "execution_count": 4,
   "metadata": {},
   "outputs": [],
   "source": [
    "def VerificarValor(Valor):\n",
    "\n",
    "    Diagnostico = \"\"\n",
    "\n",
    "    if Valor.isdigit() is True:\n",
    "        Diagnostico = \"El valor ingresado es valido\" #  Esta variable en ningun momento es mostrada en consola al usuario, pero se le asigna un valor \n",
    "        return Diagnostico                           #  y se retorna con el objetivo de tener un punto referencia util para buscar pulgas en el codigo.\n",
    "        \n",
    "        \n",
    "    else:\n",
    "        sys.exit(\"El valor ingresado no es valido\")   \n",
    "        \n",
    "    "
   ]
  },
  {
   "cell_type": "markdown",
   "metadata": {},
   "source": [
    "La funcion 'Conversion' recibe como parametros el tipo de conversion que se quiere realizar y el valor que se quiere convertir. Dependiendo del tipo de conversion asi es la ecuacion que se utiliza, principalmente por las unidades de referencia que utiliza cada una. La ecuacion utilizada para la conversion es la siguiente:\n",
    "\n",
    "$$dB = 10 * \\log{\\frac{P}{\\Pr}} \\ \\$$\n",
    "\n",
    "Donde 'Pr' es la potencia de referencia, la cual varia segun las unidades de referencia de cada tipo de conversion y 'P' es el valor ingresado por el usuario.\n",
    "\n",
    "Esta funcion retorna el resultado de la operacion matematica."
   ]
  },
  {
   "cell_type": "code",
   "execution_count": 5,
   "metadata": {},
   "outputs": [],
   "source": [
    "def Conversion (Tipo,Valor):\n",
    "\n",
    "    Pr= float\n",
    "    Resultado = float\n",
    "\n",
    "    if Tipo == '1' :\n",
    "        Pr = 1\n",
    "        Resultado = 10 * math.log(int(Valor)/Pr,10)\n",
    "        return Resultado\n",
    "    \n",
    "    elif Tipo == '2' :\n",
    "        Pr = 0.001\n",
    "        Resultado = 10 * math.log((int(Valor)/1000)/Pr,10)\n",
    "        return Resultado\n",
    "\n",
    "    else:\n",
    "        Pr = 1\n",
    "        Resultado = 10 * math.log(int(Valor)/Pr,10)\n",
    "        return Resultado\n",
    "\n"
   ]
  },
  {
   "cell_type": "markdown",
   "metadata": {},
   "source": [
    "La funcion 'Impresion' recibe como parametros el resultado de la conversion y el tipo de conversion, esta se encarga unicamente de mostrar el resultado obtenido con las unidades de referencias correspondientes de ser necesario."
   ]
  },
  {
   "cell_type": "code",
   "execution_count": 6,
   "metadata": {},
   "outputs": [],
   "source": [
    "def Impresion(Resultado,Tipo):\n",
    "    if Tipo == '1':\n",
    "        print('El resultado obtenido de la conversion es: ' + str(Resultado) + \" dB\")\n",
    "\n",
    "    elif Tipo == '2':\n",
    "        print('El resultado obtenido de la conversion es: ' + str(Resultado) + \" dBm\")\n",
    "    \n",
    "    else:\n",
    "        print('El resultado obtenido de la conversion es: ' + str(Resultado) + \" dBW\")\n",
    "    "
   ]
  },
  {
   "cell_type": "code",
   "execution_count": 7,
   "metadata": {},
   "outputs": [
    {
     "name": "stdout",
     "output_type": "stream",
     "text": [
      "Si desea convertir a dB, digite 1\n",
      "Si desea convertir a dBm, digite 2\n",
      "Si desea convertir a dBW, digite 3\n",
      "El resultado obtenido de la conversion es: 0.0 dB\n"
     ]
    }
   ],
   "source": [
    "Tipo = TipoConversion()\n",
    "Valor = SolicitarValor(Tipo)\n",
    "Diagnostico = VerificarValor(Valor)\n",
    "Resultado = Conversion (Tipo,Valor)\n",
    "Impresion (Resultado, Tipo)"
   ]
  },
  {
   "cell_type": "markdown",
   "metadata": {},
   "source": [
    "# Tarea 2 "
   ]
  },
  {
   "cell_type": "markdown",
   "metadata": {},
   "source": [
    "La presente rutina es capaz de generar dos curvas, la primera corresponde a una curva limpia a elegir por el usuario entre 3 posibles tipos: diente de sierra,\n",
    "cuadrada y senoidal. Por su parte, la segunda corresponde a la primera curva, pero con una componente de ruido agregada, la cual, puede ser escogida por el usuario entre 3 posibles niveles: baja, media y alto."
   ]
  },
  {
   "cell_type": "markdown",
   "metadata": {},
   "source": [
    "Para llamar la función se debe colocar el nombre Tarea2 y dos parámetros.\n",
    "\n",
    "El primer parámetro consiste en el tipo de onda y posee 3 opciones:\n",
    "1. Onda Senoidal:\n",
    "\n",
    "    ![cuadrada](https://www.disca.upv.es/adomenec/IASPA/tema5/mates/FormaSin.png)\n",
    "\n",
    "2. Onda Cuadrada\n",
    "\n",
    "    ![cuadrada](https://www.disca.upv.es/adomenec/IASPA/tema5/mates/formaRectangle.png)\n",
    "\n",
    "\n",
    "3. Onda Diente de Sierra\n",
    "\n",
    "    ![cuadrada](https://www.disca.upv.es/adomenec/IASPA/tema5/mates/formaSierra.png)\n",
    "\n",
    "El segundo parámetro consiste en el nivel de distorsión que se busca y posee 3 opciones:\n",
    "1. Ruido bajo\n",
    "\n",
    "    Acá se usa un parámetro de SNR en dB = 30\n",
    "\n",
    "2. Ruido medio\n",
    "\n",
    "    Acá se usa un parámetro de SNR en dB = 15\n",
    "\n",
    "3. Ruido alto\n",
    "\n",
    "    Acá se usa un parámetro de SNR en dB = 5\n",
    "\n",
    "El método empleado para generar el ruido en las funciones es el de Additive White Gaussian Noise (AWGN). Para modelar AWGN, se necesita agregar una variable aleatoria gaussiana de media cero a su señal original. La varianza de esa variable aleatoria afectará la potencia de ruido promedio. Esto según las ecuaciones:\n",
    "\n",
    "$$ SNR = Pseñal/Pruido $$\n",
    "\n",
    "$$ SNRdB = PseñaldB-PruidodB $$\n",
    "\n",
    "En términos estadísticos, para una variable aleatoria gaussiana X, la potencia promedio es:\n",
    "\n",
    "$$ E[X^2] = μ^2+σ^2. $$\n",
    " \n",
    " Pero, para el ruido blanco, μ=0 por lo que solo se usa la varianza. \n"
   ]
  },
  {
   "cell_type": "code",
   "execution_count": 8,
   "metadata": {},
   "outputs": [],
   "source": [
    "def TipoOnda () :\n",
    "    \n",
    "\n",
    "    print('Si desea onda Senoidal, digite 1')\n",
    "    print('Si desea onda Cuadrado, digite 2')\n",
    "    print('Si desea onda Diente de Sierra, digite 3')\n",
    "\n",
    "    Tipo_de_onda = input(\"Digite el tipo de Onda:\")\n",
    "\n",
    "    if Tipo_de_onda == '1':\n",
    "        return Tipo_de_onda\n",
    "    \n",
    "    elif Tipo_de_onda == '2':\n",
    "        return Tipo_de_onda\n",
    "\n",
    "    elif Tipo_de_onda == '3':\n",
    "        return Tipo_de_onda\n",
    "        \n",
    "    else:\n",
    "        sys.exit(\"El valor ingresado no corresponde a una opcion valida\") "
   ]
  },
  {
   "cell_type": "code",
   "execution_count": 9,
   "metadata": {},
   "outputs": [],
   "source": [
    "def TipoRuido () :\n",
    "    \n",
    "\n",
    "    print('Si desea onda con ruido leve, digite 1')\n",
    "    print('Si desea onda con ruido medio, digite 2')\n",
    "    print('Si desea onda Diente de Sierra con ruido fuerte, digite 3')\n",
    "\n",
    "    Nivel_de_ruido = input(\"Digite el tipo de Onda:\")\n",
    "\n",
    "    if Nivel_de_ruido == '1':\n",
    "        return Nivel_de_ruido\n",
    "    \n",
    "    elif Nivel_de_ruido == '2':\n",
    "        return Nivel_de_ruido\n",
    "\n",
    "    elif Nivel_de_ruido == '3':\n",
    "        return Nivel_de_ruido\n",
    "        \n",
    "    else:\n",
    "        sys.exit(\"El valor ingresado no corresponde a una opcion valida\") "
   ]
  },
  {
   "cell_type": "code",
   "execution_count": 10,
   "metadata": {},
   "outputs": [],
   "source": [
    "def Tarea2 (Tipo_de_onda, Nivel_de_ruido):\n",
    "    if Tipo_de_onda == \"1\":\n",
    "        t = np.linspace(1, 100, 1000, endpoint = True)\n",
    "        x = np.sin(t/(2*np.pi))\n",
    "        plt.plot(t, x)\n",
    "        plt.title('Señal Senoidal')\n",
    "        plt.ylabel('Amplitud')\n",
    "        plt.xlabel('Tiempo')\n",
    "        plt.show()\n",
    "\n",
    "        if Nivel_de_ruido == \"1\":\n",
    "            x_watts = x ** 2\n",
    "            SNR_dB = 30 # Determinar un objetivo de SNR \n",
    "            Señal_Promedio_Watts = np.mean(x_watts) # Calcular señal y convertir a decibeles\n",
    "            Señal_Promedio_dB = 10 * np.log10(Señal_Promedio_Watts) \n",
    "            Ruido_Promedio_dB = Señal_Promedio_dB - SNR_dB # Calcular el ruido y convertir a Watts\n",
    "            Ruido_Promedio_Watts = 10 ** (Ruido_Promedio_dB / 10)\n",
    "            \n",
    "            Promedio_Ruido = 0\n",
    "            Ruido = np.random.normal(Promedio_Ruido, np.sqrt(Ruido_Promedio_Watts), len(x_watts)) # Generar el ruido blanco mediante el comando \"random\"\n",
    "            Ruido_Incluido = x + Ruido # alterar la función original\n",
    "            plt.plot(t, Ruido_Incluido)\n",
    "            plt.title('Señal con ruido')\n",
    "            plt.ylabel('Amplitud')\n",
    "            plt.xlabel('Tiempo (s)')\n",
    "            plt.show()\n",
    "        \n",
    "        elif Nivel_de_ruido == \"2\":\n",
    "            x_watts = x ** 2 \n",
    "            SNR_dB = 15 \n",
    "            Señal_Promedio_Watts = np.mean(x_watts)\n",
    "            Señal_Promedio_dB = 10 * np.log10(Señal_Promedio_Watts)\n",
    "            Ruido_Promedio_dB = Señal_Promedio_dB - SNR_dB\n",
    "            Ruido_Promedio_Watts = 10 ** (Ruido_Promedio_dB / 10)\n",
    "            Promedio_Ruido = 0\n",
    "            Ruido = np.random.normal(Promedio_Ruido, np.sqrt(Ruido_Promedio_Watts), len(x_watts))\n",
    "            Ruido_Incluido = x + Ruido\n",
    "            plt.plot(t, Ruido_Incluido)\n",
    "            plt.title('Señal con ruido')\n",
    "            plt.ylabel('Amplitud')\n",
    "            plt.xlabel('Tiempo (s)')\n",
    "            plt.show()\n",
    "\n",
    "        elif Nivel_de_ruido == \"3\":\n",
    "            x_watts = x ** 2 \n",
    "            SNR_dB = 5 \n",
    "            Señal_Promedio_Watts = np.mean(x_watts)\n",
    "            Señal_Promedio_dB = 10 * np.log10(Señal_Promedio_Watts)\n",
    "            Ruido_Promedio_dB = Señal_Promedio_dB - SNR_dB\n",
    "            Ruido_Promedio_Watts = 10 ** (Ruido_Promedio_dB / 10)\n",
    "            Promedio_Ruido = 0\n",
    "            Ruido = np.random.normal(Promedio_Ruido, np.sqrt(Ruido_Promedio_Watts), len(x_watts))\n",
    "            Ruido_Incluido = x + Ruido\n",
    "            plt.plot(t, Ruido_Incluido)\n",
    "            plt.title('Señal con ruido')\n",
    "            plt.ylabel('Amplitud')\n",
    "            plt.xlabel('Tiempo (s)')\n",
    "            plt.show()\n",
    "        else:\n",
    "            print(\"La opción seleccionada no pertenece a las opciones predeterminadas\")\n",
    "    \n",
    "\n",
    "    elif Tipo_de_onda == \"2\":\n",
    "        t = np.linspace(0, 1, 1000, endpoint = True)\n",
    "        x=signal.square(2 * np.pi * 5 * t)\n",
    "        plt.plot(t, signal.square(2 * np.pi * 5 * t))\n",
    "        plt.xlabel('Tiempo') \n",
    "        plt.ylabel('Amplitud') \n",
    "        plt.title('Señal Cuadrada')\n",
    "        plt.axhline(y=0, color='k')\n",
    "        plt.show()\n",
    "        if Nivel_de_ruido == \"1\":\n",
    "            x_watts = x ** 2 \n",
    "            SNR_dB = 30 \n",
    "            Señal_Promedio_Watts = np.mean(x_watts)\n",
    "            Señal_Promedio_dB = 10 * np.log10(Señal_Promedio_Watts)\n",
    "            Ruido_Promedio_dB = Señal_Promedio_dB - SNR_dB\n",
    "            Ruido_Promedio_Watts = 10 ** (Ruido_Promedio_dB / 10)\n",
    "            Promedio_Ruido = 0\n",
    "            Ruido = np.random.normal(Promedio_Ruido, np.sqrt(Ruido_Promedio_Watts), len(x_watts))\n",
    "            Ruido_Incluido = x + Ruido\n",
    "            plt.plot(t, Ruido_Incluido)\n",
    "            plt.title('Señal con ruido')\n",
    "            plt.ylabel('Amplitud')\n",
    "            plt.xlabel('Tiempo (s)')\n",
    "            plt.show()\n",
    "        \n",
    "        elif Nivel_de_ruido == \"2\":\n",
    "            x_watts = x ** 2 \n",
    "            SNR_dB = 15 \n",
    "            Señal_Promedio_Watts = np.mean(x_watts)\n",
    "            Señal_Promedio_dB = 10 * np.log10(Señal_Promedio_Watts)\n",
    "            Ruido_Promedio_dB = Señal_Promedio_dB - SNR_dB\n",
    "            Ruido_Promedio_Watts = 10 ** (Ruido_Promedio_dB / 10)\n",
    "            Promedio_Ruido = 0\n",
    "            Ruido = np.random.normal(Promedio_Ruido, np.sqrt(Ruido_Promedio_Watts), len(x_watts))\n",
    "            Ruido_Incluido = x + Ruido\n",
    "            plt.plot(t, Ruido_Incluido)\n",
    "            plt.title('Señal con ruido')\n",
    "            plt.ylabel('Amplitud')\n",
    "            plt.xlabel('Tiempo (s)')\n",
    "            plt.show()\n",
    "\n",
    "        elif Nivel_de_ruido == \"3\":\n",
    "            x_watts = x ** 2 \n",
    "            SNR_dB = 5 \n",
    "            Señal_Promedio_Watts = np.mean(x_watts)\n",
    "            Señal_Promedio_dB = 10 * np.log10(Señal_Promedio_Watts)\n",
    "            Ruido_Promedio_dB = Señal_Promedio_dB - SNR_dB\n",
    "            Ruido_Promedio_Watts = 10 ** (Ruido_Promedio_dB / 10)\n",
    "            Promedio_Ruido = 0\n",
    "            Ruido = np.random.normal(Promedio_Ruido, np.sqrt(Ruido_Promedio_Watts), len(x_watts))\n",
    "            Ruido_Incluido = x + Ruido\n",
    "            plt.plot(t, Ruido_Incluido)\n",
    "            plt.title('Señal con ruido')\n",
    "            plt.ylabel('Amplitud')\n",
    "            plt.xlabel('Tiempo (s)')\n",
    "            plt.show()\n",
    "        else:\n",
    "            print(\"La opción seleccionada no pertenece a las opciones predeterminadas\")\n",
    "\n",
    "\n",
    "\n",
    "    elif Tipo_de_onda == \"3\":\n",
    "        t = np.linspace(0, 1, 1000, endpoint=True)\n",
    "        x = signal.sawtooth(2 * np.pi * 5 * t)\n",
    "        plt.plot(t, signal.sawtooth(2 * np.pi * 5 * t)) \n",
    "        plt.xlabel('Tiempo') \n",
    "        plt.ylabel('Amplitud') \n",
    "        plt.title('Señal Diente de Sierra') \n",
    "        plt.axhline(y=0, color='k') \n",
    "        plt.show()\n",
    "\n",
    "        if Nivel_de_ruido == \"1\":\n",
    "            x_watts = x ** 2 \n",
    "            SNR_dB = 30 \n",
    "            Señal_Promedio_Watts = np.mean(x_watts)\n",
    "            Señal_Promedio_dB = 10 * np.log10(Señal_Promedio_Watts)\n",
    "            Ruido_Promedio_dB = Señal_Promedio_dB - SNR_dB\n",
    "            Ruido_Promedio_Watts = 10 ** (Ruido_Promedio_dB / 10)\n",
    "            Promedio_Ruido = 0\n",
    "            Ruido = np.random.normal(Promedio_Ruido, np.sqrt(Ruido_Promedio_Watts), len(x_watts))\n",
    "            Ruido_Incluido = x + Ruido\n",
    "            plt.plot(t, Ruido_Incluido)\n",
    "            plt.title('Señal con ruido')\n",
    "            plt.ylabel('Amplitud')\n",
    "            plt.xlabel('Tiempo (s)')\n",
    "            plt.show()\n",
    "        \n",
    "        elif Nivel_de_ruido == \"2\":\n",
    "            x_watts = x ** 2 \n",
    "            SNR_dB = 15 \n",
    "            Señal_Promedio_Watts = np.mean(x_watts)\n",
    "            Señal_Promedio_dB = 10 * np.log10(Señal_Promedio_Watts)\n",
    "            Ruido_Promedio_dB = Señal_Promedio_dB - SNR_dB\n",
    "            Ruido_Promedio_Watts = 10 ** (Ruido_Promedio_dB / 10)\n",
    "            Promedio_Ruido = 0\n",
    "            Ruido = np.random.normal(Promedio_Ruido, np.sqrt(Ruido_Promedio_Watts), len(x_watts))\n",
    "            Ruido_Incluido = x + Ruido\n",
    "            plt.plot(t, Ruido_Incluido)\n",
    "            plt.title('Señal con ruido')\n",
    "            plt.ylabel('Amplitud')\n",
    "            plt.xlabel('Tiempo (s)')\n",
    "            plt.show()\n",
    "\n",
    "        elif Nivel_de_ruido == \"3\":\n",
    "            x_watts = x ** 2 \n",
    "            SNR_dB = 5 \n",
    "            Señal_Promedio_Watts = np.mean(x_watts)\n",
    "            Señal_Promedio_dB = 10 * np.log10(Señal_Promedio_Watts)\n",
    "            Ruido_Promedio_dB = Señal_Promedio_dB - SNR_dB\n",
    "            Ruido_Promedio_Watts = 10 ** (Ruido_Promedio_dB / 10)\n",
    "            Promedio_Ruido = 0\n",
    "            Ruido = np.random.normal(Promedio_Ruido, np.sqrt(Ruido_Promedio_Watts), len(x_watts))\n",
    "            Ruido_Incluido = x + Ruido\n",
    "            plt.plot(t, Ruido_Incluido)\n",
    "            plt.title('Señal con ruido')\n",
    "            plt.ylabel('Amplitud')\n",
    "            plt.xlabel('Tiempo (s)')\n",
    "            plt.show()\n",
    "            \n",
    "        else:\n",
    "            print(\"La opción seleccionada no pertenece a las opciones predeterminadas\")\n",
    "\n",
    "    else:\n",
    "        print(\"La opción seleccionada no pertenece a las opciones predeterminadas\")\n",
    "    "
   ]
  },
  {
   "cell_type": "code",
   "execution_count": 11,
   "metadata": {},
   "outputs": [
    {
     "name": "stdout",
     "output_type": "stream",
     "text": [
      "Si desea onda Senoidal, digite 1\n",
      "Si desea onda Cuadrado, digite 2\n",
      "Si desea onda Diente de Sierra, digite 3\n",
      "Si desea onda con ruido leve, digite 1\n",
      "Si desea onda con ruido medio, digite 2\n",
      "Si desea onda Diente de Sierra con ruido fuerte, digite 3\n"
     ]
    },
    {
     "data": {
      "image/png": "[encoded data removed]",
      "text/plain": [
       "<Figure size 432x288 with 1 Axes>"
      ]
     },
     "metadata": {
      "needs_background": "light"
     },
     "output_type": "display_data"
    },
    {
     "data": {
      "image/png": "[encoded data removed]",
      "text/plain": [
       "<Figure size 432x288 with 1 Axes>"
      ]
     },
     "metadata": {
      "needs_background": "light"
     },
     "output_type": "display_data"
    }
   ],
   "source": [
    "TipoO= TipoOnda()\n",
    "NivelR = TipoRuido()\n",
    "Graficadora = Tarea2 (TipoO,NivelR)"
   ]
  },
  {
   "cell_type": "markdown",
   "id": "813ba26f",
   "metadata": {},
   "source": [
    "#Tarea 3 Grupo: Ricardo_Mauricio_Sergio\n",
    "<img src='Tarea.png'> \n",
    "#Para el cálculo del Ruido Térmico en dB se utilizó la siguiente expresión:\n",
    "<img src='Ecuacion.png'>\n"
   ]
  },
  {
   "cell_type": "code",
   "execution_count": 12,
   "id": "1d268bcd",
   "metadata": {
    "scrolled": false
   },
   "outputs": [
    {
     "name": "stdout",
     "output_type": "stream",
     "text": [
      "\n",
      "Resultado: \n",
      "\n",
      "Ruido Termico: -163 dB\n"
     ]
    }
   ],
   "source": [
    "# Ruido Térmico\n",
    "\n",
    "T = int(input('Ingrese el valor de la temperatura ambiente (En grados centigrados): '))\n",
    "B = int(input('Ingrese el valor del Ancho de Banda (B): ' ))\n",
    "K = 1.38*10**(-23) #Constante de Boltzmann\n",
    "#Con la información obtenida se calcula el ruido termico en dB\n",
    "\n",
    "NdB = 10*ma.log(K*(T+273)/0.001,10) + 10*ma.log(B,10)\n",
    "\n",
    "print ('\\nResultado: ')\n",
    "print ('\\nRuido Termico: %d dB' %NdB)"
   ]
  },
  {
   "cell_type": "code",
   "execution_count": null,
   "id": "997376d7",
   "metadata": {},
   "outputs": [],
   "source": []
  },
  {
   "cell_type": "markdown",
   "id": "39937d80",
   "metadata": {},
   "source": [
    "# Porcentaje de distorción armónica \n",
    "## Para el cálculo se utiliza la siguiente expresión \n",
    "<img src= 'DistorsionArmonicaTHD.png'>"
   ]
  },
  {
   "cell_type": "code",
   "execution_count": 13,
   "id": "43ccdf72",
   "metadata": {
    "scrolled": true
   },
   "outputs": [
    {
     "name": "stdout",
     "output_type": "stream",
     "text": [
      "Porcentaje de distorsion armonico: 145 porciento\n"
     ]
    }
   ],
   "source": [
    "N = int(input ('Ingrese el numero de armonicos: '))\n",
    "Vf = int(input ('Ingrese el valor rms fundamental: '))\n",
    "c = 1;\n",
    "lista = []\n",
    "while (c <= N):\n",
    "    P= int(input ('Ingrese el valor rms del armonico %d: ' %c))\n",
    "    lista.append(P)\n",
    "    c += 1\n",
    "\n",
    "v = 0\n",
    "for elemento in lista:\n",
    "    v += elemento**2\n",
    "    \n",
    "Vsup = ma.sqrt(v)\n",
    "THD = (Vsup/Vf)*100\n",
    "print ('Porcentaje de distorsion armonico: %d porciento' %THD)\n",
    "    "
   ]
  },
  {
   "cell_type": "markdown",
   "id": "245550b8",
   "metadata": {},
   "source": [
    "# Amplificador no ideal \n",
    "## Cálculo de razón señal y ruido S/N a la entrada y salida del amplificador en dB, factor de ruido (F), cifra de ruido (NF).\n",
    "### Datos de entrada: Potencia de señal de entrada, Potencia de ruido de entrada en Watts, Ganancia de potencia Ap y Ruido interno Nd\n"
   ]
  },
  {
   "cell_type": "markdown",
   "id": "ec4c0951",
   "metadata": {},
   "source": [
    "## Se calcula la razón de S/N de entrada en dB con la siguiente expresión:\n",
    "<img src = 'RazonS_N_en_dB.png'>\n"
   ]
  },
  {
   "cell_type": "markdown",
   "id": "9af2b86c",
   "metadata": {},
   "source": [
    "## Se calcula la razón de S/N a la salida en Watts con la siguiente expresión y se transforma a dB con la expresión logaritmica anterior.\n",
    "<img src = 'SNsalida.png'>"
   ]
  },
  {
   "cell_type": "markdown",
   "id": "15b7e7ed",
   "metadata": {},
   "source": [
    "## Se calcula el factor de ruido F y la cifra de ruido con las siguientes expresión:\n",
    "<img src = 'F.png'>"
   ]
  },
  {
   "cell_type": "code",
   "execution_count": 14,
   "id": "58ddf6f1",
   "metadata": {},
   "outputs": [
    {
     "name": "stdout",
     "output_type": "stream",
     "text": [
      "\n",
      " Resultados: \n",
      "\n",
      "Razon de señal y ruido de entrada en dB: 3 dB\n",
      "Razon de señal y ruido a la salida en dB: 2 dB\n",
      "Factor de ruido (F): 1 W\n",
      "Cifra de ruido (NF): 2 dB\n"
     ]
    }
   ],
   "source": [
    "Si = int(input('Ingrese la potencia de señal de entrada en Watts: '))\n",
    "Ni = int(input('Ingrese la potencia de ruido de entrada en Watts: '))\n",
    "Ap = int(input('Ingrese la ganancia de potencia en Watts: '))\n",
    "Nd = int(input('Ingrese el ruido interno en Watts: '))\n",
    "\n",
    "\n",
    "SNinput = 10*ma.log(Si/Ni,10)\n",
    "\n",
    "SNoutput = 10*ma.log(Si/(Ni + Nd/Ap),10)\n",
    "\n",
    "F = SNinput/SNoutput\n",
    "NF = 10*ma.log(F,10)\n",
    "\n",
    "## Se imprimen resultados\n",
    "print ('\\n Resultados: ')\n",
    "print ('\\nRazon de señal y ruido de entrada en dB: %d dB' %SNinput)\n",
    "print ('Razon de señal y ruido a la salida en dB: %d dB' %SNoutput)\n",
    "print ('Factor de ruido (F): %d W'%F)\n",
    "print ('Cifra de ruido (NF): %d dB' %NF)\n"
   ]
  }
 ],
 "metadata": {
  "interpreter": {
   "hash": "d881dd925b3f64f6e4a53a7c796ccff7073f8b90ab85ce969c81c9a7dfc5ad5b"
  },
  "kernelspec": {
   "display_name": "Python 3.9.10 64-bit",
   "language": "python",
   "name": "python3"
  },
  "language_info": {
   "codemirror_mode": {
    "name": "ipython",
    "version": 3
   },
   "file_extension": ".py",
   "mimetype": "text/x-python",
   "name": "python",
   "nbconvert_exporter": "python",
   "pygments_lexer": "ipython3",
   "version": "3.9.10"
  }
 },
 "nbformat": 4,
 "nbformat_minor": 2
}
